{
 "cells": [
  {
   "cell_type": "code",
   "execution_count": 1,
   "id": "62bffdaf",
   "metadata": {},
   "outputs": [],
   "source": [
    "import sys\n",
    "import os\n",
    "import warnings\n",
    "warnings.filterwarnings('ignore')\n",
    "\n",
    "# Add project root to path\n",
    "sys.path.append(os.path.abspath('../'))\n",
    "\n",
    "from locobench.analysis.numerical_analysis import *"
   ]
  },
  {
   "cell_type": "code",
   "execution_count": 2,
   "id": "ae8b9d2c",
   "metadata": {},
   "outputs": [],
   "source": [
    "os.chdir(\"../\")\n",
    "#os.getcwd() # must point to project root (LoCoBench)"
   ]
  },
  {
   "cell_type": "code",
   "execution_count": 3,
   "id": "cfb5e84a",
   "metadata": {},
   "outputs": [
    {
     "name": "stdout",
     "output_type": "stream",
     "text": [
      "MGTE monolingual paths: 24\n",
      "MGTE multilingual paths: 80\n",
      "Jina monolingual paths: 24\n",
      "Jina multilingual paths: 80\n"
     ]
    }
   ],
   "source": [
    "language_order = [\"en\", \"zh\", \"de\", \"it\", \"ko\", \"hi\"]\n",
    "PATHS_MGTE_MONO, PATHS_MGTE_MULTI = categorize_paths_by_root(\"results/wiki_parallel\", \"Alibaba-NLP_gte-multilingual-base__wiki_parallel_en_de_hi_it_ko_zh__parallel__\", language_order=language_order)\n",
    "PATHS_MGTE = PATHS_MGTE_MONO + PATHS_MGTE_MULTI\n",
    "\n",
    "language_order = [\"en\", \"zh\", \"de\", \"it\", \"ko\", \"hi\"]\n",
    "PATHS_JINA_MONO, PATHS_JINA_MULTI = categorize_paths_by_root(\"results/wiki_parallel\", \"jinaai_jina-embeddings-v3__wiki_parallel_en_de_hi_it_ko_zh__parallel__\", language_order=language_order)\n",
    "PATHS_JINA = PATHS_JINA_MONO + PATHS_JINA_MULTI\n",
    "\n",
    "PATHS_MONO = PATHS_JINA_MONO + PATHS_MGTE_MONO \n",
    "PATHS_MULTI = PATHS_JINA_MULTI + PATHS_MGTE_MULTI\n",
    "\n",
    "print(f\"MGTE monolingual paths: {len(PATHS_MGTE_MONO)}\")\n",
    "print(f\"MGTE multilingual paths: {len(PATHS_MGTE_MULTI)}\")\n",
    "print(f\"Jina monolingual paths: {len(PATHS_JINA_MONO)}\")\n",
    "print(f\"Jina multilingual paths: {len(PATHS_JINA_MULTI)}\")\n",
    "\n",
    "model_pooling_strats = {\n",
    "    \"Alibaba-NLP/gte-multilingual-base\": \"cls\",\n",
    "    \"jinaai/jina-embeddings-v3\": \"mean\",\n",
    "    \"Qwen/Qwen3-Embedding-0.6B\": \"cls\"\n",
    "}"
   ]
  },
  {
   "cell_type": "code",
   "execution_count": 4,
   "id": "8c4f313a",
   "metadata": {},
   "outputs": [],
   "source": [
    "# Collect results for Exp1\n",
    "all_results_MONO_exp1 = collect_multi_model_position_analysis_results(\n",
    "    paths=PATHS_MONO,\n",
    "    model_pooling_strats=model_pooling_strats\n",
    ")\n",
    "all_results_MULTI_exp1 = collect_multi_model_position_analysis_results(\n",
    "    paths=PATHS_MULTI,\n",
    "    model_pooling_strats=model_pooling_strats\n",
    ")\n",
    "\n",
    "\n",
    "# Collect results for Exp2\n",
    "all_results_MONO_exp2 = collect_multi_model_position_analysis_results(\n",
    "    paths=PATHS_JINA_MONO,\n",
    "    model_pooling_strats=model_pooling_strats,\n",
    "    document_embedding_type=\"latechunk-segment\"\n",
    ")\n",
    "all_results_MULTI_exp2 = collect_multi_model_position_analysis_results(\n",
    "    paths=PATHS_JINA_MULTI,\n",
    "    model_pooling_strats=model_pooling_strats,\n",
    "    document_embedding_type=\"latechunk-segment\"\n",
    ")"
   ]
  },
  {
   "cell_type": "code",
   "execution_count": 5,
   "id": "77a3c42b",
   "metadata": {},
   "outputs": [],
   "source": [
    "# Compute statistical metrics, e.g., for all_results_MONO_exp1\n",
    "stats_metrics_mono_exp1 = compute_position_statistical_metrics(all_results_MONO_exp1)\n",
    "\n",
    "# ... analogously for other result sets\n",
    "# stats_metrics_multi_exp1 = compute_position_statistical_metrics(all_results_MULTI_exp1)\n",
    "# stats_metrics_monochunk_exp2 = compute_position_statistical_metrics(all_results_MONO_exp2)\n",
    "# stats_metrics_multichunk_exp2 = compute_position_statistical_metrics(all_results_MULTI_exp2)\n"
   ]
  },
  {
   "cell_type": "code",
   "execution_count": 6,
   "id": "20707109",
   "metadata": {},
   "outputs": [
    {
     "name": "stdout",
     "output_type": "stream",
     "text": [
      "((3, 'en'), 'jinaai/jina-embeddings-v3')\n",
      "((3, 'en'), 'Alibaba-NLP/gte-multilingual-base')\n",
      "((4, 'en'), 'jinaai/jina-embeddings-v3')\n",
      "((4, 'en'), 'Alibaba-NLP/gte-multilingual-base')\n",
      "((5, 'en'), 'jinaai/jina-embeddings-v3')\n",
      "((5, 'en'), 'Alibaba-NLP/gte-multilingual-base')\n",
      "((6, 'en'), 'jinaai/jina-embeddings-v3')\n",
      "((6, 'en'), 'Alibaba-NLP/gte-multilingual-base')\n",
      "((3, 'zh'), 'jinaai/jina-embeddings-v3')\n",
      "((3, 'zh'), 'Alibaba-NLP/gte-multilingual-base')\n",
      "((4, 'zh'), 'jinaai/jina-embeddings-v3')\n",
      "((4, 'zh'), 'Alibaba-NLP/gte-multilingual-base')\n",
      "((5, 'zh'), 'jinaai/jina-embeddings-v3')\n",
      "((5, 'zh'), 'Alibaba-NLP/gte-multilingual-base')\n",
      "((6, 'zh'), 'jinaai/jina-embeddings-v3')\n",
      "((6, 'zh'), 'Alibaba-NLP/gte-multilingual-base')\n",
      "((3, 'de'), 'jinaai/jina-embeddings-v3')\n",
      "((3, 'de'), 'Alibaba-NLP/gte-multilingual-base')\n",
      "((4, 'de'), 'jinaai/jina-embeddings-v3')\n",
      "((4, 'de'), 'Alibaba-NLP/gte-multilingual-base')\n",
      "((5, 'de'), 'jinaai/jina-embeddings-v3')\n",
      "((5, 'de'), 'Alibaba-NLP/gte-multilingual-base')\n",
      "((6, 'de'), 'jinaai/jina-embeddings-v3')\n",
      "((6, 'de'), 'Alibaba-NLP/gte-multilingual-base')\n",
      "((3, 'it'), 'jinaai/jina-embeddings-v3')\n",
      "((3, 'it'), 'Alibaba-NLP/gte-multilingual-base')\n",
      "((4, 'it'), 'jinaai/jina-embeddings-v3')\n",
      "((4, 'it'), 'Alibaba-NLP/gte-multilingual-base')\n",
      "((5, 'it'), 'jinaai/jina-embeddings-v3')\n",
      "((5, 'it'), 'Alibaba-NLP/gte-multilingual-base')\n",
      "((6, 'it'), 'jinaai/jina-embeddings-v3')\n",
      "((6, 'it'), 'Alibaba-NLP/gte-multilingual-base')\n",
      "((3, 'ko'), 'jinaai/jina-embeddings-v3')\n",
      "((3, 'ko'), 'Alibaba-NLP/gte-multilingual-base')\n",
      "((4, 'ko'), 'jinaai/jina-embeddings-v3')\n",
      "((4, 'ko'), 'Alibaba-NLP/gte-multilingual-base')\n",
      "((5, 'ko'), 'jinaai/jina-embeddings-v3')\n",
      "((5, 'ko'), 'Alibaba-NLP/gte-multilingual-base')\n",
      "((6, 'ko'), 'jinaai/jina-embeddings-v3')\n",
      "((6, 'ko'), 'Alibaba-NLP/gte-multilingual-base')\n",
      "((3, 'hi'), 'jinaai/jina-embeddings-v3')\n",
      "((3, 'hi'), 'Alibaba-NLP/gte-multilingual-base')\n",
      "((4, 'hi'), 'jinaai/jina-embeddings-v3')\n",
      "((4, 'hi'), 'Alibaba-NLP/gte-multilingual-base')\n",
      "((5, 'hi'), 'jinaai/jina-embeddings-v3')\n",
      "((5, 'hi'), 'Alibaba-NLP/gte-multilingual-base')\n",
      "((6, 'hi'), 'jinaai/jina-embeddings-v3')\n",
      "((6, 'hi'), 'Alibaba-NLP/gte-multilingual-base')\n"
     ]
    }
   ],
   "source": [
    "# Keys correspond to tuples of ((number_of_segments, language_configuration), model_name)\n",
    "for key in stats_metrics_mono_exp1:\n",
    "    print(key)"
   ]
  },
  {
   "cell_type": "code",
   "execution_count": null,
   "id": "b6e242c9",
   "metadata": {},
   "outputs": [
    {
     "data": {
      "text/plain": [
       "{'anova_p_value': 1.3776337592180372e-222,\n",
       " 'anova_eta_squared_generalized': 0.9399443137391916,\n",
       " 'ols_betas_adjusted': {0: 0.9379488094124242,\n",
       "  1: 0.431631975307193,\n",
       "  2: 0.43015848186440264},\n",
       " 'ols_p_values_adjusted': {0: 0.0, 1: 0.0, 2: 0.0},\n",
       " 'ols_betas_raw': {'Intercept': 0.9379488094124242,\n",
       "  'C(position_cat)[T.1]': -0.5063168341052312,\n",
       "  'C(position_cat)[T.2]': -0.5077903275480216},\n",
       " 'ols_p_values_raw': {'Intercept': 0.0,\n",
       "  'C(position_cat)[T.1]': 0.0,\n",
       "  'C(position_cat)[T.2]': 0.0},\n",
       " 'ols_summary': {'Intercept': {'beta': 0.9379488094124242,\n",
       "   'se': 0.0035906601617199173,\n",
       "   'ci_low': 0.9309112448147304,\n",
       "   'ci_high': 0.944986374010118,\n",
       "   'pval': 0.0},\n",
       "  'C(position_cat)[T.1]': {'beta': -0.5063168341052312,\n",
       "   'se': 0.006598417538057491,\n",
       "   'ci_low': -0.5192494948347813,\n",
       "   'ci_high': -0.4933841733756811,\n",
       "   'pval': 0.0},\n",
       "  'C(position_cat)[T.2]': {'beta': -0.5077903275480216,\n",
       "   'se': 0.008993084419490803,\n",
       "   'ci_low': -0.5254164491201518,\n",
       "   'ci_high': -0.4901642059758913,\n",
       "   'pval': 0.0}},\n",
       " 'gini_index': 0.1880977379987701,\n",
       " 'gini_p_value': 9.999000099990002e-05}"
      ]
     },
     "execution_count": 7,
     "metadata": {},
     "output_type": "execute_result"
    }
   ],
   "source": [
    "# Access quantitative metrics for a specific experiment instance and model (e.g., 3 segments, German, Alibaba-NLP/gte-multilingual-base)\n",
    "stats_metrics_mono_exp1[((3, 'de'), 'Alibaba-NLP/gte-multilingual-base')]"
   ]
  }
 ],
 "metadata": {
  "kernelspec": {
   "display_name": "locobench-wi3faGMG-py3.10",
   "language": "python",
   "name": "python3"
  },
  "language_info": {
   "codemirror_mode": {
    "name": "ipython",
    "version": 3
   },
   "file_extension": ".py",
   "mimetype": "text/x-python",
   "name": "python",
   "nbconvert_exporter": "python",
   "pygments_lexer": "ipython3",
   "version": "3.10.14"
  }
 },
 "nbformat": 4,
 "nbformat_minor": 5
}
